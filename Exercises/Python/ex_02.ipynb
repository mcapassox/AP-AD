{
 "cells": [
  {
   "cell_type": "code",
   "execution_count": 2,
   "metadata": {},
   "outputs": [],
   "source": [
    "\n"
   ]
  },
  {
   "cell_type": "markdown",
   "metadata": {},
   "source": [
    "Given a list of words (str), construct a new ordered list from the former where words are sorted by their reversed spelling using a lambda function."
   ]
  },
  {
   "cell_type": "code",
   "execution_count": 16,
   "metadata": {},
   "outputs": [
    {
     "name": "stdout",
     "output_type": "stream",
     "text": [
      "['a', 'c', 'c', 'a', 'c']\n"
     ]
    },
    {
     "data": {
      "text/plain": [
       "'accac'"
      ]
     },
     "execution_count": 16,
     "metadata": {},
     "output_type": "execute_result"
    }
   ],
   "source": [
    "lst=[\"cacca\",\"pupu\"]\n",
    "e0=list(lst[0])\n",
    "e0.reverse()\n",
    "print(e0)\n",
    "e0_str= ''.join(e for e in e0)\n",
    "e0_str\n"
   ]
  },
  {
   "cell_type": "code",
   "execution_count": 17,
   "metadata": {},
   "outputs": [],
   "source": [
    "import copy\n",
    "class Sequence():\n",
    "    def __init__(self, components):\n",
    "        self._components = list(copy.deepcopy(components))\n",
    "        \n",
    "    def __len__(self):\n",
    "        return len(self._components)\n",
    "    \n",
    "    def __iter__(self):\n",
    "        return iter(self._components)\n",
    "    \n",
    "    def __getitem__(self,index):\n",
    "        return self._components[index]\n",
    "    \n",
    "    def __eq__(self,other):\n",
    "        return len(self) == len(other) and all(a==b for a,b in zip(self,other))\n",
    "        #return self._components == other._components # would be sufficient\n",
    "    \n",
    "    def __delitem__(self,index):\n",
    "        del self._components[index]\n",
    "    \n",
    "    def __setitem__(self,key,value):\n",
    "        self._components[key] = value\n",
    "    \n",
    "    def insert(self, key, value):\n",
    "        self._components.insert(key,value)\n",
    "        \n",
    "    def append(self,value):\n",
    "        self._components.append(value)\n",
    "        \n",
    "    def __str__(self):\n",
    "        return str(self._components)\n",
    "    \n",
    "    def __copy__(self):\n",
    "        return copy.deepcopy(self._components)"
   ]
  },
  {
   "cell_type": "code",
   "execution_count": 22,
   "metadata": {},
   "outputs": [
    {
     "name": "stdout",
     "output_type": "stream",
     "text": [
      "[0, 1, 2, 3, 4, 5, 6, 7, 8, 9]\n",
      "9\n",
      "[1, 1, 2, 3, 4, 5, 6, 7, 8, 9]\n",
      "1\n",
      "2\n",
      "4\n",
      "5\n",
      "6\n",
      "7\n",
      "8\n",
      "9\n",
      "[1, 2, 4, 5, 6, 7, 8, 9]\n",
      "[1, 10001, 2, 4, 5, 6, 7, 8, 9]\n",
      "[1, 10001, 2, 4, 5, 6, 7, 8, 9, 1]\n"
     ]
    }
   ],
   "source": [
    "s=Sequence(range(10))\n",
    "print(s)\n",
    "len(s)\n",
    "print(s[-1])\n",
    "s[0]=1\n",
    "print(s)\n",
    "\n",
    "del s[1:4:2]\n",
    "\n",
    "\n",
    "for x in s:\n",
    "    print(x)\n",
    "print(s)\n",
    "s.insert(1,10001)\n",
    "print(s)\n",
    "len(s)\n",
    "s.append(1)\n",
    "ss=copy.copy(s)\n",
    "print(ss)"
   ]
  }
 ],
 "metadata": {
  "kernelspec": {
   "display_name": "Python 3",
   "language": "python",
   "name": "python3"
  },
  "language_info": {
   "codemirror_mode": {
    "name": "ipython",
    "version": 3
   },
   "file_extension": ".py",
   "mimetype": "text/x-python",
   "name": "python",
   "nbconvert_exporter": "python",
   "pygments_lexer": "ipython3",
   "version": "3.6.5"
  }
 },
 "nbformat": 4,
 "nbformat_minor": 2
}

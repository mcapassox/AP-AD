{
 "cells": [
  {
   "cell_type": "code",
   "execution_count": 6,
   "metadata": {},
   "outputs": [],
   "source": [
    "class MyRange():\n",
    "    def __init__(self, start, stop, step=1):\n",
    "        self.range=range(start,stop,step)\n",
    "\n",
    "def myrange(*args):\n",
    "    if len(args) not in [1,2,3]:\n",
    "        raise TypeError(\"wrong argouments number\")\n",
    "    if len(args)==1:\n",
    "        return MyRange(0,args[0]).range\n",
    "    if len(args)==2:\n",
    "        return MyRange(args[0],args[1]).range\n",
    "    if len(args)==3:\n",
    "        return MyRange(args[0],args[1],args[2]).range\n",
    "    "
   ]
  },
  {
   "cell_type": "code",
   "execution_count": 7,
   "metadata": {},
   "outputs": [
    {
     "data": {
      "text/plain": [
       "range(0, 4)"
      ]
     },
     "execution_count": 7,
     "metadata": {},
     "output_type": "execute_result"
    }
   ],
   "source": [
    "myrange(4)"
   ]
  },
  {
   "cell_type": "code",
   "execution_count": 25,
   "metadata": {},
   "outputs": [],
   "source": [
    "import time\n",
    "\n",
    "class Timer():\n",
    "    def __init__(self):\n",
    "        start=0\n",
    "        end=0\n",
    "    def __enter__(self):\n",
    "        self.start = time.perf_counter()\n",
    "        \n",
    "    def __exit__(self,*args):\n",
    "        self.end = time.perf_counter()\n",
    "        self.elapsed_secs = self.end - self.start\n",
    "     \n",
    "        print(self.elapsed_secs,\"s\")\n",
    "\n",
    "    "
   ]
  },
  {
   "cell_type": "code",
   "execution_count": 27,
   "metadata": {},
   "outputs": [
    {
     "name": "stdout",
     "output_type": "stream",
     "text": [
      "1.4940948909988947 s\n"
     ]
    }
   ],
   "source": [
    "with Timer() as t:\n",
    "\n",
    "    for i in range(1,5000000):\n",
    "        i**2"
   ]
  }
 ],
 "metadata": {
  "kernelspec": {
   "display_name": "Python 3",
   "language": "python",
   "name": "python3"
  },
  "language_info": {
   "codemirror_mode": {
    "name": "ipython",
    "version": 3
   },
   "file_extension": ".py",
   "mimetype": "text/x-python",
   "name": "python",
   "nbconvert_exporter": "python",
   "pygments_lexer": "ipython3",
   "version": "3.6.5"
  }
 },
 "nbformat": 4,
 "nbformat_minor": 2
}

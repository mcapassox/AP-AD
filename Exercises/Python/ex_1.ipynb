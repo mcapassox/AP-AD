{
 "cells": [
  {
   "cell_type": "code",
   "execution_count": 13,
   "metadata": {},
   "outputs": [
    {
     "name": "stdout",
     "output_type": "stream",
     "text": [
      "Populating the interactive namespace from numpy and matplotlib\n"
     ]
    }
   ],
   "source": [
    "%pylab inline\n",
    "import scipy\n",
    "import scipy.linalg \n",
    "import numpy"
   ]
  },
  {
   "cell_type": "code",
   "execution_count": 157,
   "metadata": {},
   "outputs": [],
   "source": [
    "def is_palindrome(string_var):     \n",
    "    print(len(string_var))\n",
    "    for i in range(len(string_var)-1):\n",
    "        if(string_var[i]==string_var[len(string_var)-1-i]):\n",
    "            continue\n",
    "        else:\n",
    "            return False\n",
    "    return True\n",
    "def is_palindrome_py(string_var):\n",
    "    print(string_var)\n",
    "    print(''.join(reversed(string_var)))\n",
    "    return string_var == ''.join(reversed(string_var))\n",
    "    \n",
    "    \n",
    "    \n",
    "def histogram_letters(string_var): \n",
    "    ret = {}\n",
    "    for c in string_var:\n",
    "        ret[c] = ret.get(c,0)+1\n",
    "    return ret\n",
    "\n",
    "def get_most_frequent(list_var):\n",
    "    \n",
    "    ret = histogram_letters(list_var)\n",
    "    return max(ret,key=ret.get)\n",
    "\n",
    "def which_duplicates(list_var):\n",
    "    ret = {}\n",
    "    dic = histogram_letters(list_var)\n",
    "    for c in list_var:\n",
    "        if(dic[c] > 1):\n",
    "            ret[c] = dic[c]\n",
    "    return ret\n",
    "\n",
    "\n",
    "def compute_factorial(int_val):\n",
    "    fact=int_val\n",
    "    for i in range(int_val-1):\n",
    "        int_val = int_val-1\n",
    "        fact = int_val*fact\n",
    "    return fact\n",
    "    \n",
    "def is_prime(int_val):\n",
    "    flag = 0\n",
    "    for i in range(2,int(sqrt(int_val))):\n",
    "        if(int_val%i == 0):\n",
    "            flag = 0\n",
    "            break;\n",
    "        else:\n",
    "            flag = 1                   \n",
    "            continue;\n",
    "    if(flag == 1):\n",
    "        return True;\n",
    "    else:\n",
    "        return False;\n"
   ]
  },
  {
   "cell_type": "code",
   "execution_count": 160,
   "metadata": {},
   "outputs": [
    {
     "data": {
      "text/plain": [
       "{'c': 3, 'i': 8, 'a': 11}"
      ]
     },
     "execution_count": 160,
     "metadata": {},
     "output_type": "execute_result"
    }
   ],
   "source": [
    "which_duplicates(\"cciiiiiciiiaaaaaaaaaaao\")"
   ]
  },
  {
   "cell_type": "code",
   "execution_count": null,
   "metadata": {},
   "outputs": [],
   "source": []
  }
 ],
 "metadata": {
  "kernelspec": {
   "display_name": "Python 3",
   "language": "python",
   "name": "python3"
  },
  "language_info": {
   "codemirror_mode": {
    "name": "ipython",
    "version": 3
   },
   "file_extension": ".py",
   "mimetype": "text/x-python",
   "name": "python",
   "nbconvert_exporter": "python",
   "pygments_lexer": "ipython3",
   "version": "3.7.0"
  }
 },
 "nbformat": 4,
 "nbformat_minor": 2
}
